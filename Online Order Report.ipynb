{
 "cells": [
  {
   "cell_type": "markdown",
   "metadata": {},
   "source": [
    "## Import Dependencies"
   ]
  },
  {
   "cell_type": "code",
   "execution_count": 1,
   "metadata": {},
   "outputs": [],
   "source": [
    "import os\n",
    "download_folder = os.path.expanduser(\"~\")+\"/Downloads/\"\n",
    "\n",
    "import calendar\n",
    "from datetime import datetime, timedelta\n",
    "\n",
    "import pandas as pd\n",
    "import numpy as np\n",
    "\n",
    "import pandas as pd\n",
    "import numpy as np\n",
    "from pandas import ExcelFile\n",
    "from pandas import ExcelWriter\n",
    "import xlsxwriter"
   ]
  },
  {
   "cell_type": "markdown",
   "metadata": {},
   "source": [
    "## Read in the full export"
   ]
  },
  {
   "cell_type": "code",
   "execution_count": 2,
   "metadata": {},
   "outputs": [],
   "source": [
    "export = pd.read_csv(f'{download_folder}orders_export.csv')"
   ]
  },
  {
   "cell_type": "code",
   "execution_count": 3,
   "metadata": {},
   "outputs": [
    {
     "data": {
      "text/plain": [
       "53"
      ]
     },
     "execution_count": 3,
     "metadata": {},
     "output_type": "execute_result"
    }
   ],
   "source": [
    "len(export)"
   ]
  },
  {
   "cell_type": "markdown",
   "metadata": {},
   "source": [
    "## Convert the 'Created at' to a timestamp. Title 'Date Ordered'"
   ]
  },
  {
   "cell_type": "code",
   "execution_count": 4,
   "metadata": {},
   "outputs": [],
   "source": [
    "timestamps = pd.to_datetime(export['Created at'])\n",
    "export['Date Ordered'] = timestamps.apply(lambda x: datetime(x.year, x.month, x.day))"
   ]
  },
  {
   "cell_type": "markdown",
   "metadata": {},
   "source": [
    "## Define Today"
   ]
  },
  {
   "cell_type": "code",
   "execution_count": 5,
   "metadata": {},
   "outputs": [
    {
     "data": {
      "text/plain": [
       "'2020-04-02'"
      ]
     },
     "execution_count": 5,
     "metadata": {},
     "output_type": "execute_result"
    }
   ],
   "source": [
    "now = datetime.now()\n",
    "\n",
    "today = datetime(now.year, now.month, now.day)\n",
    "    \n",
    "    #### Hardcoding today for dev\n",
    "    #today = datetime(now.year, now.month, 30, 0, 0)\n",
    "\n",
    "today_string = today.strftime(\"%Y-%m-%d\")\n",
    "today_string"
   ]
  },
  {
   "cell_type": "code",
   "execution_count": 6,
   "metadata": {},
   "outputs": [
    {
     "data": {
      "text/plain": [
       "False"
      ]
     },
     "execution_count": 6,
     "metadata": {},
     "output_type": "execute_result"
    }
   ],
   "source": [
    "# is today Monday? \n",
    "today.weekday() == 0"
   ]
  },
  {
   "cell_type": "markdown",
   "metadata": {},
   "source": [
    "## Filter based on the day of the week"
   ]
  },
  {
   "cell_type": "code",
   "execution_count": 7,
   "metadata": {},
   "outputs": [],
   "source": [
    "# if today is Monday, we need saturday and sunday purchases\n",
    "if today.weekday() == 0:\n",
    "    sunday = export[export['Date Ordered'] == today - timedelta(days=1)]\n",
    "    saturday = export[export['Date Ordered'] == today - timedelta(days=2)]\n",
    "    orders = pd.concat([sunday, saturday], ignore_index=True)\n",
    "else:\n",
    "    orders = export[export['Date Ordered'] == today - timedelta(days=1)]"
   ]
  },
  {
   "cell_type": "code",
   "execution_count": 8,
   "metadata": {},
   "outputs": [
    {
     "data": {
      "text/plain": [
       "15"
      ]
     },
     "execution_count": 8,
     "metadata": {},
     "output_type": "execute_result"
    }
   ],
   "source": [
    "len(orders)"
   ]
  },
  {
   "cell_type": "markdown",
   "metadata": {},
   "source": [
    "## Fill in missing values from row above (to make up for prob with shopify export)"
   ]
  },
  {
   "cell_type": "code",
   "execution_count": 9,
   "metadata": {},
   "outputs": [],
   "source": [
    "# if cell is blank, fill with value from above it\n",
    "orders = orders.fillna(method='ffill')"
   ]
  },
  {
   "cell_type": "markdown",
   "metadata": {},
   "source": [
    "## Filter out pre-orders"
   ]
  },
  {
   "cell_type": "code",
   "execution_count": 10,
   "metadata": {},
   "outputs": [],
   "source": [
    "# filter out the pre-orders\n",
    "orders = orders[~orders['Lineitem name'].str.contains('pre-order') ]"
   ]
  },
  {
   "cell_type": "markdown",
   "metadata": {},
   "source": [
    "## Create To Make list for cutters"
   ]
  },
  {
   "cell_type": "code",
   "execution_count": 11,
   "metadata": {},
   "outputs": [],
   "source": [
    "# Create counts table for cutters\n",
    "to_make = orders['Lineitem name'].value_counts()\n",
    "to_make = to_make.reset_index().rename(columns={'index': 'Lineitem name', 'Lineitem name': 'Count'})"
   ]
  },
  {
   "cell_type": "markdown",
   "metadata": {},
   "source": [
    "## Create list for instore Pick Ups"
   ]
  },
  {
   "cell_type": "code",
   "execution_count": 12,
   "metadata": {},
   "outputs": [
    {
     "data": {
      "text/html": [
       "<div>\n",
       "<style scoped>\n",
       "    .dataframe tbody tr th:only-of-type {\n",
       "        vertical-align: middle;\n",
       "    }\n",
       "\n",
       "    .dataframe tbody tr th {\n",
       "        vertical-align: top;\n",
       "    }\n",
       "\n",
       "    .dataframe thead th {\n",
       "        text-align: right;\n",
       "    }\n",
       "</style>\n",
       "<table border=\"1\" class=\"dataframe\">\n",
       "  <thead>\n",
       "    <tr style=\"text-align: right;\">\n",
       "      <th></th>\n",
       "      <th>Date Ordered</th>\n",
       "      <th>Billing Name</th>\n",
       "      <th>Lineitem name</th>\n",
       "      <th>Shipping Method</th>\n",
       "    </tr>\n",
       "  </thead>\n",
       "  <tbody>\n",
       "    <tr>\n",
       "      <th>39</th>\n",
       "      <td>2020-04-01</td>\n",
       "      <td>Jenny Ortiz</td>\n",
       "      <td>Steak Home Pack</td>\n",
       "      <td>in-store pickup</td>\n",
       "    </tr>\n",
       "    <tr>\n",
       "      <th>40</th>\n",
       "      <td>2020-04-01</td>\n",
       "      <td>Jenny Ortiz</td>\n",
       "      <td>Steak Home Pack</td>\n",
       "      <td>in-store pickup</td>\n",
       "    </tr>\n",
       "    <tr>\n",
       "      <th>41</th>\n",
       "      <td>2020-04-01</td>\n",
       "      <td>Michael  Jarnagan</td>\n",
       "      <td>Pork &amp; Chicken Pack</td>\n",
       "      <td>in-store pickup</td>\n",
       "    </tr>\n",
       "    <tr>\n",
       "      <th>42</th>\n",
       "      <td>2020-04-01</td>\n",
       "      <td>Michael  Jarnagan</td>\n",
       "      <td>Large Home Pack</td>\n",
       "      <td>in-store pickup</td>\n",
       "    </tr>\n",
       "    <tr>\n",
       "      <th>43</th>\n",
       "      <td>2020-04-01</td>\n",
       "      <td>Alexander Perez</td>\n",
       "      <td>Large Home Pack</td>\n",
       "      <td>in-store pickup</td>\n",
       "    </tr>\n",
       "    <tr>\n",
       "      <th>44</th>\n",
       "      <td>2020-04-01</td>\n",
       "      <td>Alicia Corbett</td>\n",
       "      <td>Small Home Pack</td>\n",
       "      <td>in-store pickup</td>\n",
       "    </tr>\n",
       "    <tr>\n",
       "      <th>46</th>\n",
       "      <td>2020-04-01</td>\n",
       "      <td>Daniel Dallen</td>\n",
       "      <td>Steak Home Pack</td>\n",
       "      <td>in-store pickup</td>\n",
       "    </tr>\n",
       "    <tr>\n",
       "      <th>47</th>\n",
       "      <td>2020-04-01</td>\n",
       "      <td>David Amack</td>\n",
       "      <td>Pork &amp; Chicken Pack</td>\n",
       "      <td>in-store pickup</td>\n",
       "    </tr>\n",
       "    <tr>\n",
       "      <th>49</th>\n",
       "      <td>2020-04-01</td>\n",
       "      <td>James Myatt</td>\n",
       "      <td>Small Home Pack</td>\n",
       "      <td>in-store pickup</td>\n",
       "    </tr>\n",
       "    <tr>\n",
       "      <th>50</th>\n",
       "      <td>2020-04-01</td>\n",
       "      <td>Paul Martinez</td>\n",
       "      <td>Steak Home Pack</td>\n",
       "      <td>in-store pickup</td>\n",
       "    </tr>\n",
       "  </tbody>\n",
       "</table>\n",
       "</div>"
      ],
      "text/plain": [
       "   Date Ordered       Billing Name        Lineitem name  Shipping Method\n",
       "39   2020-04-01        Jenny Ortiz      Steak Home Pack  in-store pickup\n",
       "40   2020-04-01        Jenny Ortiz      Steak Home Pack  in-store pickup\n",
       "41   2020-04-01  Michael  Jarnagan  Pork & Chicken Pack  in-store pickup\n",
       "42   2020-04-01  Michael  Jarnagan      Large Home Pack  in-store pickup\n",
       "43   2020-04-01    Alexander Perez      Large Home Pack  in-store pickup\n",
       "44   2020-04-01     Alicia Corbett      Small Home Pack  in-store pickup\n",
       "46   2020-04-01      Daniel Dallen      Steak Home Pack  in-store pickup\n",
       "47   2020-04-01        David Amack  Pork & Chicken Pack  in-store pickup\n",
       "49   2020-04-01        James Myatt      Small Home Pack  in-store pickup\n",
       "50   2020-04-01      Paul Martinez      Steak Home Pack  in-store pickup"
      ]
     },
     "execution_count": 12,
     "metadata": {},
     "output_type": "execute_result"
    }
   ],
   "source": [
    "# Create list for in store pickup\n",
    "searchfor = ['in-store', 'additional item']\n",
    "pick_ups = orders[orders['Shipping Method'].str.contains('in-store')][['Date Ordered','Billing Name','Lineitem name','Shipping Method']]\n",
    "pick_ups"
   ]
  },
  {
   "cell_type": "markdown",
   "metadata": {},
   "source": [
    "## Create List to go out for Delivery"
   ]
  },
  {
   "cell_type": "code",
   "execution_count": 13,
   "metadata": {},
   "outputs": [
    {
     "data": {
      "text/html": [
       "<div>\n",
       "<style scoped>\n",
       "    .dataframe tbody tr th:only-of-type {\n",
       "        vertical-align: middle;\n",
       "    }\n",
       "\n",
       "    .dataframe tbody tr th {\n",
       "        vertical-align: top;\n",
       "    }\n",
       "\n",
       "    .dataframe thead th {\n",
       "        text-align: right;\n",
       "    }\n",
       "</style>\n",
       "<table border=\"1\" class=\"dataframe\">\n",
       "  <thead>\n",
       "    <tr style=\"text-align: right;\">\n",
       "      <th></th>\n",
       "      <th>Date Ordered</th>\n",
       "      <th>Lineitem name</th>\n",
       "      <th>Shipping Method</th>\n",
       "      <th>Billing Name</th>\n",
       "      <th>Shipping Street</th>\n",
       "      <th>Shipping City</th>\n",
       "      <th>Shipping Zip</th>\n",
       "      <th>Shipping Phone</th>\n",
       "      <th>Notes</th>\n",
       "    </tr>\n",
       "  </thead>\n",
       "  <tbody>\n",
       "    <tr>\n",
       "      <th>52</th>\n",
       "      <td>2020-04-01</td>\n",
       "      <td>Large Home Pack</td>\n",
       "      <td>South Central Local Delivery</td>\n",
       "      <td>Katherine Kuster</td>\n",
       "      <td>2412 Little John</td>\n",
       "      <td>Austin</td>\n",
       "      <td>'78704</td>\n",
       "      <td>'+1 956-220-9447</td>\n",
       "      <td>NaN</td>\n",
       "    </tr>\n",
       "    <tr>\n",
       "      <th>38</th>\n",
       "      <td>2020-04-01</td>\n",
       "      <td>Pork &amp; Chicken Pack</td>\n",
       "      <td>Local Delivery</td>\n",
       "      <td>Marcus Mernitz</td>\n",
       "      <td>1000 E 43rd St</td>\n",
       "      <td>Austin</td>\n",
       "      <td>'78751</td>\n",
       "      <td>NaN</td>\n",
       "      <td>NaN</td>\n",
       "    </tr>\n",
       "    <tr>\n",
       "      <th>45</th>\n",
       "      <td>2020-04-01</td>\n",
       "      <td>Large Home Pack</td>\n",
       "      <td>North Austin Local Delivery</td>\n",
       "      <td>Jamie Lightner</td>\n",
       "      <td>1500 E Parmer Lane, 723</td>\n",
       "      <td>Austin</td>\n",
       "      <td>'78753</td>\n",
       "      <td>'+1 956-220-9447</td>\n",
       "      <td>NaN</td>\n",
       "    </tr>\n",
       "    <tr>\n",
       "      <th>51</th>\n",
       "      <td>2020-04-01</td>\n",
       "      <td>Pork &amp; Chicken Pack</td>\n",
       "      <td>North Austin Local Delivery</td>\n",
       "      <td>Matt Kalinowski</td>\n",
       "      <td>11400 Charolais Cove</td>\n",
       "      <td>Austin</td>\n",
       "      <td>'78758</td>\n",
       "      <td>'+1 956-220-9447</td>\n",
       "      <td>NaN</td>\n",
       "    </tr>\n",
       "  </tbody>\n",
       "</table>\n",
       "</div>"
      ],
      "text/plain": [
       "   Date Ordered        Lineitem name               Shipping Method  \\\n",
       "52   2020-04-01      Large Home Pack  South Central Local Delivery   \n",
       "38   2020-04-01  Pork & Chicken Pack                Local Delivery   \n",
       "45   2020-04-01      Large Home Pack   North Austin Local Delivery   \n",
       "51   2020-04-01  Pork & Chicken Pack   North Austin Local Delivery   \n",
       "\n",
       "        Billing Name          Shipping Street Shipping City Shipping Zip  \\\n",
       "52  Katherine Kuster         2412 Little John        Austin       '78704   \n",
       "38    Marcus Mernitz           1000 E 43rd St        Austin       '78751   \n",
       "45    Jamie Lightner  1500 E Parmer Lane, 723        Austin       '78753   \n",
       "51   Matt Kalinowski     11400 Charolais Cove        Austin       '78758   \n",
       "\n",
       "      Shipping Phone  Notes  \n",
       "52  '+1 956-220-9447    NaN  \n",
       "38               NaN    NaN  \n",
       "45  '+1 956-220-9447    NaN  \n",
       "51  '+1 956-220-9447    NaN  "
      ]
     },
     "execution_count": 13,
     "metadata": {},
     "output_type": "execute_result"
    }
   ],
   "source": [
    "# Create list for deliveries (sort by zip)\n",
    "deliveries = orders[orders['Shipping Method'].str.contains('Delivery')][['Date Ordered',\n",
    "                                                            'Lineitem name',\n",
    "                                                            'Shipping Method',\n",
    "                                                            'Billing Name', \n",
    "                                                            'Shipping Street',\n",
    "                                                            'Shipping City', \n",
    "                                                            'Shipping Zip',\n",
    "                                                            'Shipping Phone', \n",
    "                                                            'Notes',]].sort_values(by=['Shipping Zip'])\n",
    "deliveries"
   ]
  },
  {
   "cell_type": "markdown",
   "metadata": {},
   "source": [
    "## Create list to be shipped UPS"
   ]
  },
  {
   "cell_type": "code",
   "execution_count": 14,
   "metadata": {},
   "outputs": [
    {
     "data": {
      "text/html": [
       "<div>\n",
       "<style scoped>\n",
       "    .dataframe tbody tr th:only-of-type {\n",
       "        vertical-align: middle;\n",
       "    }\n",
       "\n",
       "    .dataframe tbody tr th {\n",
       "        vertical-align: top;\n",
       "    }\n",
       "\n",
       "    .dataframe thead th {\n",
       "        text-align: right;\n",
       "    }\n",
       "</style>\n",
       "<table border=\"1\" class=\"dataframe\">\n",
       "  <thead>\n",
       "    <tr style=\"text-align: right;\">\n",
       "      <th></th>\n",
       "      <th>Date Ordered</th>\n",
       "      <th>Lineitem name</th>\n",
       "      <th>Shipping Method</th>\n",
       "      <th>Billing Name</th>\n",
       "      <th>Shipping Name</th>\n",
       "      <th>Shipping Street</th>\n",
       "      <th>Shipping City</th>\n",
       "      <th>Shipping Zip</th>\n",
       "      <th>Shipping Phone</th>\n",
       "      <th>Notes</th>\n",
       "    </tr>\n",
       "  </thead>\n",
       "  <tbody>\n",
       "  </tbody>\n",
       "</table>\n",
       "</div>"
      ],
      "text/plain": [
       "Empty DataFrame\n",
       "Columns: [Date Ordered, Lineitem name, Shipping Method, Billing Name, Shipping Name, Shipping Street, Shipping City, Shipping Zip, Shipping Phone, Notes]\n",
       "Index: []"
      ]
     },
     "execution_count": 14,
     "metadata": {},
     "output_type": "execute_result"
    }
   ],
   "source": [
    "# Create list for items to be shipped\n",
    "to_ship = orders[orders['Shipping Method'].str.contains('UPS')][['Date Ordered',\n",
    "                                                            'Lineitem name',\n",
    "                                                            'Shipping Method',\n",
    "                                                            'Billing Name',\n",
    "                                                            'Shipping Name',\n",
    "                                                            'Shipping Street',\n",
    "                                                            'Shipping City', \n",
    "                                                            'Shipping Zip',\n",
    "                                                            'Shipping Phone', \n",
    "                                                            'Notes',]]\n",
    "to_ship"
   ]
  },
  {
   "cell_type": "markdown",
   "metadata": {},
   "source": [
    "## Print all reports to Excel with tabs"
   ]
  },
  {
   "cell_type": "code",
   "execution_count": 15,
   "metadata": {},
   "outputs": [],
   "source": [
    "# creating new xlsx with multiple sheets\n",
    "\n",
    "with pd.ExcelWriter(f'{download_folder}Online Order Reports-{today_string}.xlsx') as writer:\n",
    "    to_make.to_excel(writer, sheet_name='To Make', index=False)\n",
    "    pick_ups.to_excel(writer, sheet_name='Pick Ups', index=False)\n",
    "    deliveries.to_excel(writer,sheet_name='Deliveries', index=False)\n",
    "    to_ship.to_excel(writer, sheet_name='To Ship', index=False)\n"
   ]
  },
  {
   "cell_type": "code",
   "execution_count": null,
   "metadata": {},
   "outputs": [],
   "source": []
  }
 ],
 "metadata": {
  "kernelspec": {
   "display_name": "Python 3",
   "language": "python",
   "name": "python3"
  },
  "language_info": {
   "codemirror_mode": {
    "name": "ipython",
    "version": 3
   },
   "file_extension": ".py",
   "mimetype": "text/x-python",
   "name": "python",
   "nbconvert_exporter": "python",
   "pygments_lexer": "ipython3",
   "version": "3.7.4"
  }
 },
 "nbformat": 4,
 "nbformat_minor": 2
}
